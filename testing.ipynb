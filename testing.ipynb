{
 "cells": [
  {
   "cell_type": "code",
   "execution_count": 1,
   "metadata": {},
   "outputs": [],
   "source": [
    "from board import Board"
   ]
  },
  {
   "cell_type": "code",
   "execution_count": 2,
   "metadata": {},
   "outputs": [
    {
     "name": "stdout",
     "output_type": "stream",
     "text": [
      "Read 175861 words\n"
     ]
    }
   ],
   "source": [
    "board = Board('dictionary.txt')"
   ]
  },
  {
   "cell_type": "code",
   "execution_count": 3,
   "metadata": {},
   "outputs": [
    {
     "data": {
      "text/plain": [
       "'hi'"
      ]
     },
     "execution_count": 3,
     "metadata": {},
     "output_type": "execute_result"
    }
   ],
   "source": [
    "board.update('hi', ((7,7),(7,8)))"
   ]
  },
  {
   "cell_type": "code",
   "execution_count": 4,
   "metadata": {},
   "outputs": [
    {
     "name": "stdout",
     "output_type": "stream",
     "text": [
      "story\n"
     ]
    }
   ],
   "source": [
    "print(board.update('history', ((7,7),(7,13))))"
   ]
  },
  {
   "cell_type": "code",
   "execution_count": 7,
   "metadata": {},
   "outputs": [
    {
     "data": {
      "text/plain": [
       "'ex'"
      ]
     },
     "execution_count": 7,
     "metadata": {},
     "output_type": "execute_result"
    }
   ],
   "source": [
    "board.update('sex', ((7,9),(9,9)))"
   ]
  },
  {
   "cell_type": "code",
   "execution_count": 8,
   "metadata": {},
   "outputs": [
    {
     "name": "stdout",
     "output_type": "stream",
     "text": [
      "   0  1  2  3  4  5  6  7  8  9  10 11 12 13 14\n",
      "0  -  -  -  -  -  -  -  -  -  -  -  -  -  -  - \n",
      "1  -  -  -  -  -  -  -  -  -  -  -  -  -  -  - \n",
      "2  -  -  -  -  -  -  -  -  -  -  -  -  -  -  - \n",
      "3  -  -  -  -  -  -  -  -  -  -  -  -  -  -  - \n",
      "4  -  -  -  -  -  -  -  -  -  -  -  -  -  -  - \n",
      "5  -  -  -  -  -  -  -  -  -  -  -  -  -  -  - \n",
      "6  -  -  -  -  -  -  -  -  -  -  -  -  -  -  - \n",
      "7  -  -  -  -  -  -  -  h  i  s  t  o  r  y  - \n",
      "8  -  -  -  -  -  -  -  -  -  e  -  -  -  -  - \n",
      "9  -  -  -  -  -  -  -  -  -  x  -  -  -  -  - \n",
      "10 -  -  -  -  -  -  -  -  -  -  -  -  -  -  - \n",
      "11 -  -  -  -  -  -  -  -  -  -  -  -  -  -  - \n",
      "12 -  -  -  -  -  -  -  -  -  -  -  -  -  -  - \n",
      "13 -  -  -  -  -  -  -  -  -  -  -  -  -  -  - \n",
      "14 -  -  -  -  -  -  -  -  -  -  -  -  -  -  - \n",
      "\n",
      "{(6, 9), (8, 13), (9, 8), (6, 7), (7, 6), (6, 10), (8, 10), (10, 9), (7, 14), (6, 11), (8, 11), (9, 10), (8, 7), (6, 12), (6, 8), (8, 12), (8, 8), (6, 13)}\n"
     ]
    }
   ],
   "source": [
    "print(board)\n",
    "print(board.anchors)"
   ]
  },
  {
   "cell_type": "code",
   "execution_count": null,
   "metadata": {},
   "outputs": [],
   "source": []
  }
 ],
 "metadata": {
  "kernelspec": {
   "display_name": "Python 3",
   "language": "python",
   "name": "python3"
  },
  "language_info": {
   "codemirror_mode": {
    "name": "ipython",
    "version": 3
   },
   "file_extension": ".py",
   "mimetype": "text/x-python",
   "name": "python",
   "nbconvert_exporter": "python",
   "pygments_lexer": "ipython3",
   "version": "3.7.3"
  }
 },
 "nbformat": 4,
 "nbformat_minor": 2
}
