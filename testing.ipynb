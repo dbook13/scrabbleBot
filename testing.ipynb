{
 "cells": [
  {
   "cell_type": "code",
   "execution_count": 1,
   "metadata": {},
   "outputs": [],
   "source": [
    "from board import Board"
   ]
  },
  {
   "cell_type": "code",
   "execution_count": 2,
   "metadata": {},
   "outputs": [
    {
     "name": "stdout",
     "output_type": "stream",
     "text": [
      "Read 175861 words\n"
     ]
    }
   ],
   "source": [
    "board = Board('dictionary.txt')"
   ]
  },
  {
   "cell_type": "code",
   "execution_count": 3,
   "metadata": {},
   "outputs": [
    {
     "data": {
      "text/plain": [
       "'toe'"
      ]
     },
     "execution_count": 3,
     "metadata": {},
     "output_type": "execute_result"
    }
   ],
   "source": [
    "board.update('toe', ((7,7), (9,7)))"
   ]
  },
  {
   "cell_type": "code",
   "execution_count": 4,
   "metadata": {},
   "outputs": [
    {
     "data": {
      "text/plain": [
       "'ail'"
      ]
     },
     "execution_count": 4,
     "metadata": {},
     "output_type": "execute_result"
    }
   ],
   "source": [
    "board.update('ail', ((11,7), (13,7)))"
   ]
  },
  {
   "cell_type": "code",
   "execution_count": 5,
   "metadata": {},
   "outputs": [
    {
     "name": "stdout",
     "output_type": "stream",
     "text": [
      "   0  1  2  3  4  5  6  7  8  9  10 11 12 13 14\n",
      "0  -  -  -  -  -  -  -  -  -  -  -  -  -  -  - \n",
      "1  -  -  -  -  -  -  -  -  -  -  -  -  -  -  - \n",
      "2  -  -  -  -  -  -  -  -  -  -  -  -  -  -  - \n",
      "3  -  -  -  -  -  -  -  -  -  -  -  -  -  -  - \n",
      "4  -  -  -  -  -  -  -  -  -  -  -  -  -  -  - \n",
      "5  -  -  -  -  -  -  -  -  -  -  -  -  -  -  - \n",
      "6  -  -  -  -  -  -  -  -  -  -  -  -  -  -  - \n",
      "7  -  -  -  -  -  -  -  t  -  -  -  -  -  -  - \n",
      "8  -  -  -  -  -  -  -  o  -  -  -  -  -  -  - \n",
      "9  -  -  -  -  -  -  -  e  -  -  -  -  -  -  - \n",
      "10 -  -  -  -  -  -  -  -  -  -  -  -  -  -  - \n",
      "11 -  -  -  -  -  -  -  a  -  -  -  -  -  -  - \n",
      "12 -  -  -  -  -  -  -  i  -  -  -  -  -  -  - \n",
      "13 -  -  -  -  -  -  -  l  -  -  -  -  -  -  - \n",
      "14 -  -  -  -  -  -  -  -  -  -  -  -  -  -  - \n",
      "\n",
      "{(9, 8), (13, 6), (13, 8), (9, 6), (11, 8), (10, 7), (7, 6), (14, 7), (12, 6), (8, 8), (8, 6), (7, 8), (11, 6), (12, 8)}\n",
      "{(7, 6): ['a', 'e', 'i', 'u'], (7, 8): ['a', 'i', 'o'], (8, 6): ['b', 'd', 'g', 'h', 'j', 'l', 'm', 'n', 's', 't', 'w', 'y'], (8, 8): ['d', 'e', 'f', 'h', 'i', 'm', 'n', 'p', 'r', 's', 'w', 'x', 'y'], (9, 6): ['a', 'b', 'd', 'f', 'h', 'm', 'n', 'o', 'p', 'r', 'w', 'y'], (9, 8): ['d', 'f', 'h', 'l', 'm', 'n', 'r', 's', 't', 'x'], (11, 6): ['a', 'b', 'f', 'h', 'k', 'l', 'm', 'n', 'p', 't', 'y', 'z'], (11, 8): ['a', 'b', 'd', 'e', 'g', 'h', 'i', 'l', 'm', 'n', 'r', 's', 't', 'w', 'x', 'y'], (12, 6): ['a', 'b', 'h', 'k', 'l', 'm', 'o', 'p', 'q', 's', 't', 'x'], (12, 8): ['d', 'f', 'n', 's', 't'], (13, 6): ['a', 'e'], (13, 8): ['a', 'i', 'o']}\n",
      "{(6, 7): [], (10, 7): ['n'], (14, 7): ['s']}\n"
     ]
    }
   ],
   "source": [
    "print(board)\n",
    "print(board.anchors)\n",
    "print(board.horCrossSets)\n",
    "print(board.verCrossSets)"
   ]
  },
  {
   "cell_type": "code",
   "execution_count": null,
   "metadata": {},
   "outputs": [],
   "source": []
  }
 ],
 "metadata": {
  "kernelspec": {
   "display_name": "Python 3",
   "language": "python",
   "name": "python3"
  },
  "language_info": {
   "codemirror_mode": {
    "name": "ipython",
    "version": 3
   },
   "file_extension": ".py",
   "mimetype": "text/x-python",
   "name": "python",
   "nbconvert_exporter": "python",
   "pygments_lexer": "ipython3",
   "version": "3.7.3"
  }
 },
 "nbformat": 4,
 "nbformat_minor": 2
}
