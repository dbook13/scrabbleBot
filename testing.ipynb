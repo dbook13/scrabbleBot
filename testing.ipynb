{
 "cells": [
  {
   "cell_type": "code",
   "execution_count": 8,
   "metadata": {},
   "outputs": [
    {
     "name": "stdout",
     "output_type": "stream",
     "text": [
      "Read 175861 words\n"
     ]
    }
   ],
   "source": [
    "from util import oneHotIndices\n",
    "from board import Board\n",
    "import numpy as np\n",
    "b = Board('dictionary.txt')"
   ]
  },
  {
   "cell_type": "code",
   "execution_count": 17,
   "metadata": {},
   "outputs": [],
   "source": [
    "def convertToOneHot(board, word, coords):\n",
    "    data = np.zeros((15,15,26))\n",
    "    for i in range(15):\n",
    "        for j in range(15):\n",
    "            if board[i,j]: data[i,j,oneHotIndices[board[i,j]]] = 1\n",
    "    vert = (coords[1][0]-coords[0][0], coords[1][1]-coords[0][1]) == (len(word)-1, 0)\n",
    "    (y,x) = coords[0]\n",
    "    pos = 0\n",
    "    while True:\n",
    "        data[y,x,oneHotIndices[word[pos]]] = 1\n",
    "        if (y,x) == coords[1]: break\n",
    "        pos += 1\n",
    "        if vert:\n",
    "            y += 1\n",
    "        else:\n",
    "            x += 1\n",
    "    return data"
   ]
  },
  {
   "cell_type": "code",
   "execution_count": 33,
   "metadata": {},
   "outputs": [
    {
     "data": {
      "text/plain": [
       "(5850,)"
      ]
     },
     "execution_count": 33,
     "metadata": {},
     "output_type": "execute_result"
    }
   ],
   "source": [
    "convertToOneHot(b.board, 'TEST', ((7,7),(10,7))).flatten().shape"
   ]
  },
  {
   "cell_type": "code",
   "execution_count": 19,
   "metadata": {},
   "outputs": [
    {
     "data": {
      "text/plain": [
       "0.48452168462967016"
      ]
     },
     "execution_count": 19,
     "metadata": {},
     "output_type": "execute_result"
    }
   ],
   "source": [
    "np.random.rand()"
   ]
  },
  {
   "cell_type": "code",
   "execution_count": 30,
   "metadata": {},
   "outputs": [
    {
     "data": {
      "text/plain": [
       "True"
      ]
     },
     "execution_count": 30,
     "metadata": {},
     "output_type": "execute_result"
    }
   ],
   "source": [
    "'nonman' in b.gdg"
   ]
  },
  {
   "cell_type": "code",
   "execution_count": 31,
   "metadata": {},
   "outputs": [
    {
     "data": {
      "text/plain": [
       "8"
      ]
     },
     "execution_count": 31,
     "metadata": {},
     "output_type": "execute_result"
    }
   ],
   "source": [
    "np.power(2,3)"
   ]
  },
  {
   "cell_type": "code",
   "execution_count": null,
   "metadata": {},
   "outputs": [],
   "source": []
  }
 ],
 "metadata": {
  "kernelspec": {
   "display_name": "Python 3",
   "language": "python",
   "name": "python3"
  },
  "language_info": {
   "codemirror_mode": {
    "name": "ipython",
    "version": 3
   },
   "file_extension": ".py",
   "mimetype": "text/x-python",
   "name": "python",
   "nbconvert_exporter": "python",
   "pygments_lexer": "ipython3",
   "version": "3.7.3"
  }
 },
 "nbformat": 4,
 "nbformat_minor": 2
}
